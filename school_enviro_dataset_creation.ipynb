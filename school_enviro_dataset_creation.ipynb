{
 "cells": [
  {
   "cell_type": "markdown",
   "metadata": {},
   "source": [
    "# School Greening and Urban Forests\n",
    "#### Code written by Cami Pawlak, Jessica Baiza,  Dr. Aaron Liggett, Dr. Andrew Fricker"
   ]
  },
  {
   "cell_type": "markdown",
   "metadata": {},
   "source": [
    "### Import Packages"
   ]
  },
  {
   "cell_type": "code",
   "execution_count": null,
   "metadata": {
    "scrolled": true
   },
   "outputs": [],
   "source": [
    "from arcpy import *\n",
    "from arcpy.ra import *\n",
    "from arcpy.sa import *\n",
    "from arcpy import conversion\n",
    "from arcpy.conversion import ExportFeatures\n",
    "from arcpy import env"
   ]
  },
  {
   "cell_type": "markdown",
   "metadata": {},
   "source": [
    "## Set Environment and load any file paths"
   ]
  },
  {
   "cell_type": "markdown",
   "metadata": {},
   "source": [
    "#### To run this script, you will need to update the environment path, if the data is downloaded from the repository, the rest of the paths should work."
   ]
  },
  {
   "cell_type": "code",
   "execution_count": null,
   "metadata": {
    "scrolled": true
   },
   "outputs": [],
   "source": [
    "#Set your workspace\n",
    "arcpy.env.workspace = r'SET YOUR PATH/for_script_2/'\n",
    "workspace_path = r'SET YOUR PATH/for_script_2/'"
   ]
  },
  {
   "cell_type": "code",
   "execution_count": null,
   "metadata": {
    "scrolled": true
   },
   "outputs": [],
   "source": [
    "#Schools points 2021-2022\n",
    "school_pts_edge = r\"schools\\schools_pts_more_accurate\\Public_School_Locs\\EDGE_ADMINDATA_PUBLICSCH.shp\"\n",
    "\n",
    "#School points 2020-2021\n",
    "school_pts_att = r\"schools\\school_pts_attributed\\California_Schools_2020-21.gdb\\2020-21.gdb\\SchoolSites2021\"\n",
    "\n",
    "#School polygons 2020/2021\n",
    "CSCD_school_polys = r\"schools\\schools_polygons_CSCD\\CSCD_2021\\CSCD_2021.gdb\\Primary_Secondary\\Schools_Current_Stacked\"\n",
    "\n",
    "#School polygons 2018\n",
    "school_polys_18 = r\"schools\\california_school_polygons_18\\schools_current_stacked_18_2.shp\"\n",
    "\n",
    "#Data we create: joined school polygons\n",
    "spatial_join_school_polys =r\"schools\\merged\\joined_school_polygons_spatial.shp\"\n",
    "\n",
    "#Data we create: school polygons unique to 2018\n",
    "unique_18_polys = r\"schools\\california_school_polygons_18\\unique_schools_18.shp\"\n",
    "\n",
    "#Data we create: Merged school polygons from 2018 and 2020/2021\n",
    "merged_school_polys = r\"schools\\merged\\merged_school_polygons.shp\"\n",
    "\n",
    "#Data we create: Spatial join schools to polygons, without climate and CalEnviroscreen data\n",
    "schools_final = r\"schools\\final\\merged_school_polygons_joined_to_merged_points_sp_tab.shp\"\n",
    "\n",
    "#California buildings file\n",
    "buildings = r\"C:\\Users\\cpawlak\\Cal Poly\\G. Andrew Fricker - Baiza\\data\\for_script\\buildings\\CA_Buildings2.gdb\\California_Polygons\"\n",
    "\n",
    "#Data we create: Merged school polygons with buildings erased\n",
    "school_polys_erase_buildings = r\"schools\\final\\merged_school_polygons_joined_to_merged_points_sp_tab_erase_buildings.shp\"\n",
    "\n",
    "#USFS Canopy Cover Map for California 2018\n",
    "canopy = r\"canopy_cover\\CA_urbancanopy_2018.gdb\\CA_urbancanopy_2018\\Band_1\"\n",
    "\n",
    "#Data we create: The canopy cover sums in each school polygon\n",
    "canopy_table = r\"canopy_cover\\canopy_18_zonal_stats.dbf\"\n",
    "\n",
    "#Cal Enviroscreen Shapefile\n",
    "cal_enviro = r\"calenviroscreen\\calenviroscreen40shpf2021shp\\calenviroscreen40shpf2021shp\\CES4 Final Shapefile.shp\"\n",
    "\n",
    "#Folder which stores climate models from CalAdapt\n",
    "climate_folder = r\"climate_models\"\n",
    "\n",
    "#Data we create: Schools with all attribute data and joins\n",
    "schools_final_all = r\"schools\\final\\final.gdb\\school_polys_all_data\"\n",
    "\n",
    "#Data we created and use in this script: Center points for all school polygons\n",
    "points = r'schools\\joins\\schools_polygons_final_erased_buildings_as_points.shp'\n",
    "\n",
    "#Data we created: School polygon center points joined to climate information\n",
    "points = r'schools\\joins\\school_polygons_final_erased_buildings_as_points.shp'\n",
    "out_points = r'schools\\joins\\school_polygons_final_erased_buildings_as_points_join.shp'"
   ]
  },
  {
   "cell_type": "markdown",
   "metadata": {},
   "source": [
    "## Tabular (text) Join of points to points\n",
    "#### This section joins our two sets of school points to combine their attribute data."
   ]
  },
  {
   "cell_type": "code",
   "execution_count": null,
   "metadata": {
    "scrolled": true
   },
   "outputs": [],
   "source": [
    "#Join based on code, this is the unique school identifier\n",
    "in_field = \"NCESSCH\" \n",
    "\n",
    "#join field\n",
    "join_field = \"FedID\"\n",
    "\n",
    "\n",
    "#run the join which will add directly to school_pts_edge\n",
    "joined_school_points = arcpy.management.AddJoin(school_pts_edge, in_field,\n",
    "                         school_pts_att, join_field, \"KEEP_ALL\")\n"
   ]
  },
  {
   "cell_type": "markdown",
   "metadata": {},
   "source": [
    "## Join the two school polygons"
   ]
  },
  {
   "cell_type": "markdown",
   "metadata": {},
   "source": [
    "#### First join them to get a join count"
   ]
  },
  {
   "cell_type": "code",
   "execution_count": null,
   "metadata": {
    "scrolled": true
   },
   "outputs": [],
   "source": [
    "#join one to one or one\n",
    "join_operation = 'JOIN_ONE_TO_ONE'\n",
    "\n",
    "#keep all or keep common features\n",
    "join_type = 'KEEP_ALL'\n",
    "\n",
    "#field mapping, ignore, '#'\n",
    "\n",
    "#match option is within a distance for search radius\n",
    "match_option ='INTERSECT'\n",
    "\n",
    "arcpy.analysis.SpatialJoin(school_polys_18, CSCD_school_polys, \n",
    "                           spatial_join_school_polys, \n",
    "                           join_operation, join_type,\n",
    "                           '#', \n",
    "                           match_option)"
   ]
  },
  {
   "cell_type": "markdown",
   "metadata": {},
   "source": [
    "#### Export just the unique polygons from 2018 schools"
   ]
  },
  {
   "cell_type": "code",
   "execution_count": null,
   "metadata": {
    "scrolled": true
   },
   "outputs": [],
   "source": [
    "arcpy.conversion.ExportFeatures(spatial_join_school_polys, unique_18_polys,'Join_Count = 0')"
   ]
  },
  {
   "cell_type": "markdown",
   "metadata": {},
   "source": [
    "#### Merge the 2021 school polygons and unique 2018 schools"
   ]
  },
  {
   "cell_type": "code",
   "execution_count": null,
   "metadata": {
    "scrolled": true
   },
   "outputs": [],
   "source": [
    "arcpy.management.Merge([CSCD_school_polys, unique_18_polys], merged_school_polys)\n"
   ]
  },
  {
   "cell_type": "markdown",
   "metadata": {},
   "source": [
    "#### Add Join any and all school information to the polygons (tabular)"
   ]
  },
  {
   "cell_type": "code",
   "execution_count": null,
   "metadata": {
    "scrolled": true
   },
   "outputs": [],
   "source": [
    "\n",
    "#Join based on code, this is the unique school identifier\n",
    "in_field = \"CDSCode\" \n",
    "\n",
    "#join field\n",
    "join_field = \"SchoolSites2021.CDSCode\"\n",
    "\n",
    "\n",
    "#run the join which will add directly to school_pts_edge\n",
    "school_polys_to_points_1 = arcpy.management.AddJoin(merged_school_polys, in_field,\n",
    "                         joined_school_points, join_field, \"KEEP_ALL\")"
   ]
  },
  {
   "cell_type": "markdown",
   "metadata": {},
   "source": [
    "#### Now spatial join with a 30 meter search radius"
   ]
  },
  {
   "cell_type": "code",
   "execution_count": null,
   "metadata": {
    "scrolled": true
   },
   "outputs": [],
   "source": [
    "#join one to one\n",
    "join_operation = 'JOIN_ONE_TO_ONE'\n",
    "#keep all or keep common features\n",
    "join_type = 'KEEP_ALL'\n",
    "#field mapping, ignore, '#'\n",
    "#match option is within a distance for search radius\n",
    "match_option ='WITHIN A DISTANCE'\n",
    "\n",
    "search_radius = 30\n",
    "\n",
    "schools_final = arcpy.analysis.SpatialJoin(school_polys_to_points_1, joined_school_points, \n",
    "                           schools_final, \n",
    "                           join_operation, join_type,\n",
    "                           '#', \n",
    "                           match_option, search_radius)"
   ]
  },
  {
   "cell_type": "markdown",
   "metadata": {},
   "source": [
    "## Erase buildings\n",
    "#### This way, we can calculate canopy cover area without including buildings, which are not accessible\n",
    "#### The schoolbuilding file linked only includes building  in California schools,  which we pre-clipped"
   ]
  },
  {
   "cell_type": "code",
   "execution_count": null,
   "metadata": {
    "scrolled": true
   },
   "outputs": [],
   "source": [
    "arcpy.analysis.PairwiseErase(schools_final, buildings, school_polys_erase_buildings)"
   ]
  },
  {
   "cell_type": "markdown",
   "metadata": {},
   "source": [
    "## Summarize rasters by polygons"
   ]
  },
  {
   "cell_type": "markdown",
   "metadata": {},
   "source": [
    "#### Get the canopy areas within each school polygon. Because our canopy pixel resolution is 1x1 m, the SUM statistic represents area"
   ]
  },
  {
   "cell_type": "code",
   "execution_count": null,
   "metadata": {
    "scrolled": true
   },
   "outputs": [],
   "source": [
    "\n",
    "#zone field (something unique)\n",
    "zone_field = 'FID'\n",
    "\n",
    "#statistics type, for canopy we want SUM, outputs meters squared of canopy\n",
    "statistics_type = 'SUM'\n",
    "\n",
    "#running zonal stats using defaults of ignoring no data and interpolation\n",
    "arcpy.sa.ZonalStatisticsAsTable(school_polys_erase_buildings, zone_field, canopy, \n",
    "                                canopy_table,'DATA', statistics_type)"
   ]
  },
  {
   "cell_type": "markdown",
   "metadata": {},
   "source": [
    "## Add climate models and get predicted climate futures for schools"
   ]
  },
  {
   "cell_type": "code",
   "execution_count": null,
   "metadata": {
    "scrolled": true
   },
   "outputs": [],
   "source": [
    "import os\n",
    "os.chdir(workspace_path)\n",
    "folder_path = r\"climate_models/\"  # Replace with the path to your folder\n",
    "file_names = [file for file in os.listdir(folder_path) if file.endswith(\".tif\")]"
   ]
  },
  {
   "cell_type": "code",
   "execution_count": null,
   "metadata": {
    "scrolled": true
   },
   "outputs": [],
   "source": [
    "for climate_raster in file_names:\n",
    "    \n",
    "    #file_name = os.path.basename(file_name)\n",
    "    climate_raster_path = folder_path+climate_raster\n",
    "    \n",
    "    # Set the field name to the raster name without the extension\n",
    "    field_name =climate_raster.split(\".\")[0]\n",
    "    \n",
    "    # Use the ExtractValuesToPoints tool to extract raster values to points\n",
    "    #these points were created by us, they are center points of the school polys(points)\n",
    "    arcpy.sa.ExtractValuesToPoints(points, climate_raster_path, out_points, \"NONE\", \"VALUE_ONLY\")\n",
    "    \n",
    "    # Add a new field with the raster name as the field name\n",
    "    arcpy.AddField_management(out_points, field_name, \"DOUBLE\")\n",
    "    \n",
    "    # Calculate the raster values to the new field\n",
    "    arcpy.CalculateField_management(out_points, field_name, \"!RASTERVALU!\", \"PYTHON3\")\n",
    "    \n",
    "    out_climate_points = folder_path+field_name+\".shp\"\n",
    "    #save it as a point file with climate info\n",
    "    arcpy.conversion.ExportFeatures(out_points, out_climate_points)\n",
    "    "
   ]
  },
  {
   "cell_type": "markdown",
   "metadata": {},
   "source": [
    "#### Join tables\n",
    "##### First join  canopy   values to school polygons file (erased buildings)"
   ]
  },
  {
   "cell_type": "code",
   "execution_count": null,
   "metadata": {
    "scrolled": true
   },
   "outputs": [],
   "source": [
    "\n",
    "#Join based on code, this is the unique school identifier\n",
    "in_field = \"FID\" \n",
    "#join field\n",
    "join_field = \"FID_\"\n",
    "\n",
    "#run the join which will add directly to school_pts_edge\n",
    "canopy_join = arcpy.management.AddJoin(school_polys_erase_buildings, in_field,\n",
    "                         canopy_table, join_field, \"KEEP_ALL\")\n",
    "\n",
    "canopy_join_path = r\"join/schools_buildings_erased_canopy.shp\"\n",
    "\n",
    "#save it\n",
    "arcpy.conversion.ExportFeatures(canopy_join, canopy_join_path)\n",
    "    "
   ]
  },
  {
   "cell_type": "markdown",
   "metadata": {
    "scrolled": true
   },
   "source": [
    "#### Now join each climate point file for each climate scenario to the school polygons with buildings erased"
   ]
  },
  {
   "cell_type": "code",
   "execution_count": null,
   "metadata": {},
   "outputs": [],
   "source": [
    "#Join based on code, this is the unique school identifier\n",
    "in_field = \"FID\" \n",
    "#join field\n",
    "join_field = \"FID\"\n",
    "clim_join_path_1 = r\"join/schools_buildings_erased_canopy_clim1.shp\"\n",
    "#run the join which will add directly to school_pts_edge\n",
    "clim_join = arcpy.management.AddJoin(canopy_join_path, in_field,\n",
    "                                     r\"climate_models\\avg30y_h.shp\",\n",
    "                                     join_field, \"KEEP_ALL\")\n",
    "\n",
    "arcpy.conversion.ExportFeatures(clim_join, clim_join_path_1)\n",
    " \n",
    "\n",
    "#Join based on code, this is the unique school identifier\n",
    "in_field = \"FID\" \n",
    "#join field\n",
    "join_field = \"FID\"\n",
    "clim_join_path_2 = r\"join/schools_buildings_erased_canopy_clim2.shp\"\n",
    "#run the join which will add directly to school_pts_edge\n",
    "clim_join = arcpy.management.AddJoin(clim_join_path_1, in_field,\n",
    "                                     r\"climate_models\\rcp45_fut.shp\",\n",
    "                                     join_field, \"KEEP_ALL\")\n",
    "\n",
    "arcpy.conversion.ExportFeatures(clim_join, clim_join_path_2)\n",
    "\n",
    "\n",
    "\n",
    "#Join based on code, this is the unique school identifier\n",
    "in_field = \"FID\" \n",
    "#join field\n",
    "join_field = \"FID\"\n",
    "clim_join_path_3 = r\"join/schools_buildings_erased_canopy_clim3.shp\"\n",
    "#run the join which will add directly to school_pts_edge\n",
    "clim_join = arcpy.management.AddJoin(clim_join_path_2, in_field,\n",
    "                                     r\"climate_models\\rcp45_mid.shp\",\n",
    "                                     join_field, \"KEEP_ALL\")\n",
    "\n",
    "arcpy.conversion.ExportFeatures(clim_join, clim_join_path_3)\n",
    "\n",
    "\n",
    "#Join based on code, this is the unique school identifier\n",
    "in_field = \"FID\" \n",
    "#join field\n",
    "join_field = \"FID\"\n",
    "clim_join_path_4 = r\"join/schools_buildings_erased_canopy_clim4.shp\"\n",
    "#run the join which will add directly to school_pts_edge\n",
    "clim_join = arcpy.management.AddJoin(clim_join_path_3, in_field,\n",
    "                                     r\"climate_models\\rcp85_fut.shp\",\n",
    "                                     join_field, \"KEEP_ALL\")\n",
    "\n",
    "arcpy.conversion.ExportFeatures(clim_join, clim_join_path_4)\n",
    "\n",
    "\n",
    "\n",
    "#Join based on code, this is the unique school identifier\n",
    "in_field = \"FID\" \n",
    "#join field\n",
    "join_field = \"FID\"\n",
    "clim_join_path_5 = r\"join/large_files.gdb/schools_buildings_erased_canopy_clim5\"\n",
    "#run the join which will add directly to school_pts_edge\n",
    "clim_join = arcpy.management.AddJoin(clim_join_path_4, in_field,\n",
    "                                     r\"climate_models\\rcp85_mid.shp\",\n",
    "                                     join_field, \"KEEP_ALL\")\n",
    "\n",
    "arcpy.conversion.ExportFeatures(clim_join, clim_join_path_5)\n",
    "\n",
    "#now we have a file with the canopy and climate information, called clim_join_path_5\n"
   ]
  },
  {
   "cell_type": "markdown",
   "metadata": {},
   "source": [
    "## Join to CalEnviroScreen data to the school data file (polygons with erased buildings, canopy  and climate)\n"
   ]
  },
  {
   "cell_type": "code",
   "execution_count": null,
   "metadata": {
    "scrolled": true
   },
   "outputs": [],
   "source": [
    "#join one to one or one to many?\n",
    "join_operation = 'JOIN_ONE_TO_ONE'\n",
    "#keep all or keep common features\n",
    "join_type = 'KEEP_ALL'\n",
    "#field mapping, ignore, '#'\n",
    "#match option is within a distance for search radius\n",
    "match_option ='INTERSECT'\n",
    "\n",
    "\n",
    "\n",
    "schools_final_all_obj = arcpy.analysis.SpatialJoin(clim_join_path_5, cal_enviro, \n",
    "                           schools_final_all, \n",
    "                           join_operation, join_type,\n",
    "                           '#', \n",
    "                           match_option)"
   ]
  },
  {
   "cell_type": "markdown",
   "metadata": {
    "scrolled": true
   },
   "source": [
    "## Join the tables from climate and canopy to a final clean table.  \n",
    "\n",
    "#### First, manually export the data from schools_final_all_obj as a csv file (not spatial). Load that path into csv_file below"
   ]
  },
  {
   "cell_type": "markdown",
   "metadata": {},
   "source": [
    "#### Select only the desired columns for the final table"
   ]
  },
  {
   "cell_type": "code",
   "execution_count": null,
   "metadata": {
    "scrolled": true
   },
   "outputs": [],
   "source": [
    "import pandas as pd\n",
    "\n",
    "# Specify the file path to the CSV file\n",
    "csv_file = r\"PATH TO YOUR CSV FILE\\school_polys_all_data_table.csv\"  # Update with your file path\n",
    "\n",
    "# Read the CSV file into a pandas DataFrame\n",
    "df = pd.read_csv(csv_file,low_memory=False)\n",
    "\n",
    "subset_df = df[['CDSCode','Status','Level','NCESSCH','SURVYEAR','LEA_NAME','SCH_NAME','LSTREET1','LCITY','LZIP','PHONE','TOTFRL','TOTAL','AM','HI','BL','WH','HP','TR','FTE','ULOCALE','NMCNTY','STUTERATIO','AMALM','AMALF','ASALM','ASALF','HIALM','HIALF','BLALM','BLALF','WHALM','WHALF','HPALM','HPALF','TRALM','TRALF','TOTMENROL','TOTFENROL','AS_','School','TotPop19','CIscore','CIscoreP','Ozone','OzoneP','PM2_5','PM2_5_P','DieselPM','DieselPM_P','Pesticide','PesticideP','Tox_Rel','Tox_Rel_P','Traffic','TrafficP','DrinkWatP','Lead','Lead_P','Cleanup','CleanupP','GWThreat','GWThreatP','HazWaste','HazWasteP','ImpWatBod','ImpWatBodP','PollBurd','PolBurdSc','PolBurdP','Asthma','AsthmaP','LowBirtWt','LowBirWP','Cardiovas','CardiovasP','Educatn','EducatP','Ling_Isol','Ling_IsolP','Poverty','PovertyP','Unempl','UnemplP','HousBurd','HousBurdP','PopChar','PopCharSc','PopCharP','Child_10','Hispanic','White','AfricanAm','NativeAm','OtherMult','SUM','avg30y_h','rcp45_fut','rcp45_mid','rcp85_fut','rcp85_mid']]\n",
    "\n",
    "#get the correct ID, get correct index\n",
    "subset_df['OBJECTID']=subset_df.index + 1\n",
    "\n",
    "#Create Index which ranks schools\n",
    "\n",
    "#First, normalize the mid rcp 85 values from a scale of 0-100\n",
    "subset_df['rcp85mid_N']= (subset_df['rcp85_mid']-(min(subset_df['rcp85_mid'])))/((max(subset_df['rcp85_mid']))-(min(subset_df['rcp85_mid'])))*100\n",
    "\n",
    "#Then, combine calenviroscreen score with normalized climate data\n",
    "subset_df['scl_rnk']= ((subset_df['rcp85mid_N']) * (0.5)) + ((subset_df['CIscoreP']) *  (0.5))\n",
    "\n",
    "#save the csv that is clean somewhere new!\n",
    "subset_df.to_csv(r'\\schools\\final\\school_polys_all_data_table_subset.csv', index=False)"
   ]
  },
  {
   "cell_type": "markdown",
   "metadata": {},
   "source": [
    "### Join tabular data back to file with school polygons (with no extra data) to create final file"
   ]
  },
  {
   "cell_type": "code",
   "execution_count": null,
   "metadata": {},
   "outputs": [],
   "source": [
    "#Set path to final csv\n",
    "subset_df = r'\\schools\\final\\school_polys_all_data_table_subset.csv'\n",
    "\n",
    "#join to copy of the final file that has all the columns deleted except those selected\n",
    "\n",
    "#reads in path of no data school polygons, which was created manually\n",
    "schools_no_data = r\"schools\\final\\final.gdb\\school_polys_all_data_no_columns\"\n",
    "\n",
    "#Join final file!\n",
    "join_schools_subset = arcpy.management.AddJoin(schools_no_data, \"OBJECTID\",\n",
    "                         subset_df, \"OBJECTID\", \"KEEP_ALL\")\n",
    "\n",
    "#Save it!\n",
    "final_file = 'YOUR PATH TO FINAL SPATIAL FILE.shp'\n",
    "arcpy.conversion.ExportFeatures(join_schools_subset, final_file)"
   ]
  }
 ],
 "metadata": {
  "kernelspec": {
   "display_name": "ArcGISPro",
   "language": "Python",
   "name": "python3"
  },
  "language_info": {
   "file_extension": ".py",
   "name": "python",
   "version": "3"
  }
 },
 "nbformat": 4,
 "nbformat_minor": 2
}
